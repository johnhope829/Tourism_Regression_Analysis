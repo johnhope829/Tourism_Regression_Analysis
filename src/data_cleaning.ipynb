{
 "cells": [
  {
   "cell_type": "markdown",
   "id": "2866be13-1439-494e-b8f2-59be9ad117ca",
   "metadata": {},
   "source": [
    "# Data Cleaning"
   ]
  },
  {
   "cell_type": "markdown",
   "id": "2b2b9db1-fc9c-4c11-8dec-ce94b72aef7e",
   "metadata": {},
   "source": [
    "## Import Packages"
   ]
  },
  {
   "cell_type": "code",
   "execution_count": 1,
   "id": "466757a5-0d90-4b2a-a77e-65857132f770",
   "metadata": {},
   "outputs": [],
   "source": [
    "import pandas as pd\n",
    "import numpy as np\n",
    "from itertools import chain\n",
    "from functools import reduce"
   ]
  },
  {
   "cell_type": "markdown",
   "id": "677485bd-d4eb-4d68-a7ea-0bc0a2d8cad9",
   "metadata": {},
   "source": [
    "## Get Country Codes"
   ]
  },
  {
   "cell_type": "code",
   "execution_count": 2,
   "id": "10d2841d-532d-4f0c-bcd6-1422f3149567",
   "metadata": {},
   "outputs": [],
   "source": [
    "country_df = pd.read_excel(\n",
    "    '../data/raw/unwto-all-data-download_2022.xlsx',\n",
    "    sheet_name = 'Inbound Tourism-Arrivals',\n",
    "    header = 2\n",
    ")"
   ]
  },
  {
   "cell_type": "code",
   "execution_count": 3,
   "id": "699f5976-40d1-45bc-9b65-d3255860861d",
   "metadata": {},
   "outputs": [],
   "source": [
    "country_df = country_df[['C.','Basic data and indicators']][\n",
    "    (country_df['Basic data and indicators'].isna() == False) & \n",
    "    (country_df['C.'].isna() == False)\n",
    "]"
   ]
  },
  {
   "cell_type": "code",
   "execution_count": 4,
   "id": "b24d6c30-f37e-435d-9355-ac1bf6930451",
   "metadata": {},
   "outputs": [],
   "source": [
    "countries = country_df.rename(columns = {\n",
    "    'C.':'country_code',\n",
    "    'Basic data and indicators':'country'\n",
    "})"
   ]
  },
  {
   "cell_type": "markdown",
   "id": "863d91e8-ac48-4001-8847-56d0938087d8",
   "metadata": {},
   "source": [
    "## Load Country Mapping File"
   ]
  },
  {
   "cell_type": "code",
   "execution_count": 5,
   "id": "fce3c28d-8ed1-4b68-b864-a24c2a79dd63",
   "metadata": {},
   "outputs": [],
   "source": [
    "country_mapping_df = pd.read_csv('../data/processed/country_mapping.csv')"
   ]
  },
  {
   "cell_type": "markdown",
   "id": "468413b8-80b1-448c-bebf-384a0779dff0",
   "metadata": {},
   "source": [
    "## Function to Standardize Data Cleaning for Tourism Sheets"
   ]
  },
  {
   "cell_type": "code",
   "execution_count": 6,
   "id": "0c33d96f-0cfe-42b1-8434-c5713ac42a76",
   "metadata": {},
   "outputs": [],
   "source": [
    "def cleanse_tourism_df(sheet):\n",
    "    \n",
    "    # read excel sheet\n",
    "    df = pd.read_excel(\n",
    "        '../data/raw/unwto-all-data-download_2022.xlsx',\n",
    "        sheet_name = sheet,\n",
    "        header = 2\n",
    "    )\n",
    "    \n",
    "    # remove irrelevant rows\n",
    "    df = df[\n",
    "        (df['S.'].isna() == False) & \n",
    "        (df['S.'] != 0)\n",
    "    ]\n",
    "    \n",
    "    # utilizing the attribute number column with table name, as numbers are repeating across tables\n",
    "    df['table_measure'] = sheet.replace(' ','_').replace('-','_').lower() + '_' + df['S.'].map('{:,.2f}'.format)\n",
    "    \n",
    "    # defining the columns to keep\n",
    "    col_list = [['C.','table_measure'], list(range(1995,2023))]\n",
    "    col_list = list(chain(*col_list))\n",
    "    df = df[col_list]\n",
    "    \n",
    "    # utilizing pd.melt() to put the years onto rows\n",
    "    df = pd.melt(df,\n",
    "                 id_vars=['C.', 'table_measure'], \n",
    "                 var_name='year',\n",
    "                 value_name='value')\n",
    "    \n",
    "    # replacing '..' values with NaN\n",
    "    df['value'] = df['value'].replace('..',np.nan)\n",
    "    \n",
    "    # pivoting to put the attributes onto columns\n",
    "    df = df.pivot(index=['C.', 'year'], columns='table_measure', values='value')#.reset_index()\n",
    "    \n",
    "    return df"
   ]
  },
  {
   "cell_type": "markdown",
   "id": "d640a87e-6181-4a98-bb8d-de299d760d56",
   "metadata": {},
   "source": [
    "## Creating Data Frames"
   ]
  },
  {
   "cell_type": "code",
   "execution_count": 7,
   "id": "e4ec2a7f-b017-4287-aff2-9a92f5b916ab",
   "metadata": {},
   "outputs": [
    {
     "name": "stderr",
     "output_type": "stream",
     "text": [
      "/var/folders/n7/35x1v29d0bzbkcsdc706mjxw0000gn/T/ipykernel_28521/1419121283.py:31: FutureWarning: Downcasting behavior in `replace` is deprecated and will be removed in a future version. To retain the old behavior, explicitly call `result.infer_objects(copy=False)`. To opt-in to the future behavior, set `pd.set_option('future.no_silent_downcasting', True)`\n",
      "  df['value'] = df['value'].replace('..',np.nan)\n",
      "/var/folders/n7/35x1v29d0bzbkcsdc706mjxw0000gn/T/ipykernel_28521/1419121283.py:31: FutureWarning: Downcasting behavior in `replace` is deprecated and will be removed in a future version. To retain the old behavior, explicitly call `result.infer_objects(copy=False)`. To opt-in to the future behavior, set `pd.set_option('future.no_silent_downcasting', True)`\n",
      "  df['value'] = df['value'].replace('..',np.nan)\n",
      "/var/folders/n7/35x1v29d0bzbkcsdc706mjxw0000gn/T/ipykernel_28521/1419121283.py:31: FutureWarning: Downcasting behavior in `replace` is deprecated and will be removed in a future version. To retain the old behavior, explicitly call `result.infer_objects(copy=False)`. To opt-in to the future behavior, set `pd.set_option('future.no_silent_downcasting', True)`\n",
      "  df['value'] = df['value'].replace('..',np.nan)\n",
      "/var/folders/n7/35x1v29d0bzbkcsdc706mjxw0000gn/T/ipykernel_28521/1419121283.py:31: FutureWarning: Downcasting behavior in `replace` is deprecated and will be removed in a future version. To retain the old behavior, explicitly call `result.infer_objects(copy=False)`. To opt-in to the future behavior, set `pd.set_option('future.no_silent_downcasting', True)`\n",
      "  df['value'] = df['value'].replace('..',np.nan)\n",
      "/var/folders/n7/35x1v29d0bzbkcsdc706mjxw0000gn/T/ipykernel_28521/1419121283.py:31: FutureWarning: Downcasting behavior in `replace` is deprecated and will be removed in a future version. To retain the old behavior, explicitly call `result.infer_objects(copy=False)`. To opt-in to the future behavior, set `pd.set_option('future.no_silent_downcasting', True)`\n",
      "  df['value'] = df['value'].replace('..',np.nan)\n",
      "/var/folders/n7/35x1v29d0bzbkcsdc706mjxw0000gn/T/ipykernel_28521/1419121283.py:31: FutureWarning: Downcasting behavior in `replace` is deprecated and will be removed in a future version. To retain the old behavior, explicitly call `result.infer_objects(copy=False)`. To opt-in to the future behavior, set `pd.set_option('future.no_silent_downcasting', True)`\n",
      "  df['value'] = df['value'].replace('..',np.nan)\n",
      "/var/folders/n7/35x1v29d0bzbkcsdc706mjxw0000gn/T/ipykernel_28521/1419121283.py:31: FutureWarning: Downcasting behavior in `replace` is deprecated and will be removed in a future version. To retain the old behavior, explicitly call `result.infer_objects(copy=False)`. To opt-in to the future behavior, set `pd.set_option('future.no_silent_downcasting', True)`\n",
      "  df['value'] = df['value'].replace('..',np.nan)\n",
      "/var/folders/n7/35x1v29d0bzbkcsdc706mjxw0000gn/T/ipykernel_28521/1419121283.py:31: FutureWarning: Downcasting behavior in `replace` is deprecated and will be removed in a future version. To retain the old behavior, explicitly call `result.infer_objects(copy=False)`. To opt-in to the future behavior, set `pd.set_option('future.no_silent_downcasting', True)`\n",
      "  df['value'] = df['value'].replace('..',np.nan)\n",
      "/var/folders/n7/35x1v29d0bzbkcsdc706mjxw0000gn/T/ipykernel_28521/1419121283.py:31: FutureWarning: Downcasting behavior in `replace` is deprecated and will be removed in a future version. To retain the old behavior, explicitly call `result.infer_objects(copy=False)`. To opt-in to the future behavior, set `pd.set_option('future.no_silent_downcasting', True)`\n",
      "  df['value'] = df['value'].replace('..',np.nan)\n",
      "/var/folders/n7/35x1v29d0bzbkcsdc706mjxw0000gn/T/ipykernel_28521/1419121283.py:31: FutureWarning: Downcasting behavior in `replace` is deprecated and will be removed in a future version. To retain the old behavior, explicitly call `result.infer_objects(copy=False)`. To opt-in to the future behavior, set `pd.set_option('future.no_silent_downcasting', True)`\n",
      "  df['value'] = df['value'].replace('..',np.nan)\n",
      "/var/folders/n7/35x1v29d0bzbkcsdc706mjxw0000gn/T/ipykernel_28521/1419121283.py:31: FutureWarning: Downcasting behavior in `replace` is deprecated and will be removed in a future version. To retain the old behavior, explicitly call `result.infer_objects(copy=False)`. To opt-in to the future behavior, set `pd.set_option('future.no_silent_downcasting', True)`\n",
      "  df['value'] = df['value'].replace('..',np.nan)\n"
     ]
    }
   ],
   "source": [
    "# inbound tourism tables\n",
    "inbound_accommodations = cleanse_tourism_df('Inbound Tourism-Accommodation')\n",
    "inbound_regions = cleanse_tourism_df('Inbound Tourism-Regions')\n",
    "inbound_arrivals = cleanse_tourism_df('Inbound Tourism-Arrivals')\n",
    "inbound_purpose = cleanse_tourism_df('Inbound Tourism-Purpose')\n",
    "inbound_transport = cleanse_tourism_df('Inbound Tourism-Transport')\n",
    "inbound_expenditure = cleanse_tourism_df('Inbound Tourism-Expenditure')\n",
    "\n",
    "# domestic tourism tables\n",
    "domestic_trips = cleanse_tourism_df('Domestic Tourism-Trips')\n",
    "domestic_accommodations = cleanse_tourism_df('Domestic Tourism-Accommodation')\n",
    "\n",
    "# outbound tourism tables\n",
    "outbound_departures = cleanse_tourism_df('Outbound Tourism-Departures')\n",
    "outbound_expenditure = cleanse_tourism_df('Outbound Tourism-Expenditure')\n",
    "\n",
    "# tourism industry table\n",
    "tourism_industry = cleanse_tourism_df('Tourism Industries')\n",
    "\n",
    "# tourism employment table\n",
    "employment = cleanse_tourism_df('Employment')"
   ]
  },
  {
   "cell_type": "code",
   "execution_count": 8,
   "id": "531a1741-9d55-4e4b-a265-5616509de627",
   "metadata": {},
   "outputs": [],
   "source": [
    "# concatenate data frames into one\n",
    "tourism_df = pd.concat([\n",
    "    inbound_accommodations,\n",
    "    inbound_regions,\n",
    "    inbound_arrivals,\n",
    "    inbound_purpose,\n",
    "    inbound_transport,\n",
    "    inbound_expenditure,\n",
    "    domestic_trips,\n",
    "    domestic_accommodations,\n",
    "    outbound_departures,\n",
    "    outbound_expenditure,\n",
    "    tourism_industry,\n",
    "    employment\n",
    "], axis = 1)\n",
    "\n",
    "tourism_df = tourism_df.reset_index().rename(columns = {\n",
    "    'C.':'country_code'\n",
    "})"
   ]
  },
  {
   "cell_type": "code",
   "execution_count": 9,
   "id": "b46668dc-71ea-4c28-b6e9-ba8a1454243c",
   "metadata": {},
   "outputs": [],
   "source": [
    "column_name_map = {\n",
    "    'country_code':'country_code',\n",
    "    'year':'year',\n",
    "    'inbound_tourism_accommodation_1.29':'total_guests',\n",
    "    'inbound_tourism_accommodation_1.30':'total_overnights',\n",
    "    'inbound_tourism_accommodation_1.31':'hotel_guests',\n",
    "    'inbound_tourism_accommodation_1.32':'hotel_overnights',\n",
    "    'inbound_tourism_regions_1.10':'total_middle_east',\n",
    "    'inbound_tourism_regions_1.11':'total_south_asia',\n",
    "    'inbound_tourism_regions_1.12':'total_other_region_not_classified',\n",
    "    'inbound_tourism_regions_1.13':'total_nationals_residing_abroad',\n",
    "    'inbound_tourism_regions_1.50':'total_regions',\n",
    "    'inbound_tourism_regions_1.60':'total_africa',\n",
    "    'inbound_tourism_regions_1.70':'total_americas',\n",
    "    'inbound_tourism_regions_1.80':'total_east_asia_pacific',\n",
    "    'inbound_tourism_regions_1.90':'total_europe',\n",
    "    'inbound_tourism_arrivals_1.10':'total_region_arrivals', #remove\n",
    "    'inbound_tourism_arrivals_1.20':'overnight_visitors',\n",
    "    'inbound_tourism_arrivals_1.30':'same_day_visitors',\n",
    "    'inbound_tourism_arrivals_1.40':'same_day_cruise_passengers',\n",
    "    'inbound_tourism_purpose_1.14':'total_by_purpose',\n",
    "    'inbound_tourism_purpose_1.15':'visitors_personal',\n",
    "    'inbound_tourism_purpose_1.18':'visitors_business_professional',\n",
    "    'inbound_tourism_transport_1.19':'total_arrivals_transport', # remove\n",
    "    'inbound_tourism_transport_1.20':'arrivals_by_air',\n",
    "    'inbound_tourism_transport_1.21':'arrivals_by_water',\n",
    "    'inbound_tourism_transport_1.22':'arrivals_by_land',\n",
    "    'inbound_tourism_expenditure_1.33':'total_inbound_tourism_expenditure',\n",
    "    'inbound_tourism_expenditure_1.34':'travel_inbound_tourism_expenditure',\n",
    "    'inbound_tourism_expenditure_1.35':'transport_inbound_tourism_expenditure',\n",
    "    'domestic_tourism_trips_2.10':'total_domestic_trip_visitors',\n",
    "    'domestic_tourism_trips_2.20':'domestic_trip_overnight_visitors',\n",
    "    'domestic_tourism_trips_2.30':'domestic_trip_same_day_visitors',\n",
    "    'domestic_tourism_accommodation_2.19':'total_guests_domestic',\n",
    "    'domestic_tourism_accommodation_2.20':'total_overnights_domestic',\n",
    "    'domestic_tourism_accommodation_2.21':'hotel_guests_domestic',\n",
    "    'domestic_tourism_accommodation_2.22':'hotel_overnights_domestic',\n",
    "    'outbound_tourism_departures_3.10':'total_departures',\n",
    "    'outbound_tourism_departures_3.20':'departures_overnight_visitors',\n",
    "    'outbound_tourism_departures_3.30':'departures_same_day_visitors',\n",
    "    'outbound_tourism_expenditure_3.40':'outbound_total_expenditure',\n",
    "    'outbound_tourism_expenditure_3.50':'outbound_travel_expenditure',\n",
    "    'outbound_tourism_expenditure_3.60':'outbound_transport_expenditure',\n",
    "    'tourism_industries_4.13':'establishments',\n",
    "    'tourism_industries_4.14':'rooms',\n",
    "    'tourism_industries_4.15':'bed_places',\n",
    "    'tourism_industries_4.16':'occupancy_rate_per_room',\n",
    "    'tourism_industries_4.17':'occupancy_rate_per_bed_place',\n",
    "    'tourism_industries_4.18':'avg_stay_length',\n",
    "    'tourism_industries_4.19':'available_capacity',\n",
    "    'employment_5.10':'total_tourism_employees',\n",
    "    'employment_5.20':'employees_visitor_accomodation_services',\n",
    "    'employment_5.30':'employees_other_accomodation_services',\n",
    "    'employment_5.40':'employees_food_and_beverage_service',\n",
    "    'employment_5.50':'employees_passenger_transportation',\n",
    "    'employment_5.60':'employees_travel_agencies',\n",
    "    'employment_5.70':'employees_other_tourism_industries'\n",
    "}"
   ]
  },
  {
   "cell_type": "code",
   "execution_count": 10,
   "id": "9151e4c0-f014-493e-98ed-7540fb0d8f74",
   "metadata": {},
   "outputs": [],
   "source": [
    "tourism_df = tourism_df.rename(columns = column_name_map)"
   ]
  },
  {
   "cell_type": "markdown",
   "id": "64636b04-37fa-4a5e-875a-d036eb2b5572",
   "metadata": {},
   "source": [
    "## Cleaning Economic Datasets"
   ]
  },
  {
   "cell_type": "markdown",
   "id": "fb600a8d-913d-4af3-8e52-690aa80dbc5e",
   "metadata": {},
   "source": [
    "### GDP Per Capita"
   ]
  },
  {
   "cell_type": "code",
   "execution_count": 11,
   "id": "53d80133-630a-4b5d-910a-c2f52d926a2f",
   "metadata": {},
   "outputs": [],
   "source": [
    "# read in excel file\n",
    "gdp_per_capita_total = pd.read_excel(\n",
    "    '../data/raw/RealPerCapitaGDPValues.xlsx',\n",
    "    sheet_name = 'GDP Per Cap',\n",
    "    header = 12\n",
    ").rename(columns = {\n",
    "    'Country':'country'\n",
    "})\n",
    "\n",
    "# get columns of interest\n",
    "gdp_per_capita_cols = [x for x in gdp_per_capita_total.columns if (x.startswith('y')) or (x == 'country')]\n",
    "\n",
    "# subset to columns, and use pd.melt to get years into a single column\n",
    "gdp_per_capita = pd.melt(gdp_per_capita_total[gdp_per_capita_cols],\n",
    "        id_vars=['country'],\n",
    "        var_name='year',\n",
    "        value_name='gdp_per_capita')\n",
    "\n",
    "# replace the 'y' in the year values\n",
    "gdp_per_capita.year = gdp_per_capita.year.str.replace('y','')"
   ]
  },
  {
   "cell_type": "markdown",
   "id": "a32b5173-7d3a-4970-869d-ae5363fe1d97",
   "metadata": {},
   "source": [
    "### GDP"
   ]
  },
  {
   "cell_type": "code",
   "execution_count": 12,
   "id": "9df3a210-2ff3-4a89-8130-c067150230df",
   "metadata": {},
   "outputs": [],
   "source": [
    "# read in excel file\n",
    "gdp_total = pd.read_excel(\n",
    "    '../data/raw/RealGDPValues.xlsx',\n",
    "    sheet_name = 'Real GDP',\n",
    "    header = 12\n",
    ").rename(columns = {\n",
    "    'Country':'country'\n",
    "})\n",
    "\n",
    "# get columns of interest\n",
    "gdp_cols = [x for x in gdp_total.columns if (x.startswith('y')) or (x == 'country')]\n",
    "\n",
    "# subset to columns, and use pd.melt to get years into a single column\n",
    "gdp = pd.melt(gdp_total[gdp_cols],\n",
    "        id_vars=['country'],\n",
    "        var_name='year',\n",
    "        value_name='gdp')\n",
    "\n",
    "# replace the 'y' in the year values\n",
    "gdp.year = gdp.year.str.replace('y','')"
   ]
  },
  {
   "cell_type": "markdown",
   "id": "b4f91ad9-be6c-430f-b3ac-ac7ccec4cb32",
   "metadata": {},
   "source": [
    "### Exchange Rates"
   ]
  },
  {
   "cell_type": "code",
   "execution_count": 14,
   "id": "a19ce849-1fcf-4c67-8b96-2cb7b82acc78",
   "metadata": {},
   "outputs": [],
   "source": [
    "# read in excel file\n",
    "exchange_rate_total = pd.read_excel(\n",
    "    '../data/raw/RealExchangeRateValues.xlsx',\n",
    "    sheet_name = 'Real XR',\n",
    "    header = 10\n",
    ").rename(columns = {\n",
    "    'Country':'country'\n",
    "})\n",
    "\n",
    "# get columns of interest\n",
    "#exchange_rate_cols = exchange_rate_total.columns\n",
    "exchange_rate_cols = [x for x in exchange_rate_total.columns if (x.startswith('y')) or (x == 'country')]\n",
    "exchange_rate_cols2 = [x for x in exchange_rate_total.columns if (x.startswith('g')) or (x == 'country')]\n",
    "\n",
    "# subset to columns, and use pd.melt to get years into a single column\n",
    "exchange_rates1 = pd.melt(exchange_rate_total[exchange_rate_cols],\n",
    "        id_vars=['country'],\n",
    "        var_name='year',\n",
    "        value_name='exchange_rate')\n",
    "\n",
    "exchange_rates2 = pd.melt(exchange_rate_total[exchange_rate_cols2],\n",
    "        id_vars=['country'],\n",
    "        var_name='year',\n",
    "        value_name='growth_rate')\n",
    "\n",
    "# replace the 'y' in the year values\n",
    "exchange_rates1.year = exchange_rates1.year.str.replace('y','')\n",
    "exchange_rates2.year = exchange_rates2.year.str.replace('g','')\n",
    "exchange_rates = pd.merge(exchange_rates1, exchange_rates2, how = 'outer', on = ['year', 'country'])"
   ]
  },
  {
   "cell_type": "markdown",
   "id": "d53db657-9bfb-43c1-8a27-00e7d455bddb",
   "metadata": {},
   "source": [
    "### Consumer Price Index"
   ]
  },
  {
   "cell_type": "code",
   "execution_count": 15,
   "id": "350d0281-b22e-4cd3-b391-b3ef93438854",
   "metadata": {},
   "outputs": [],
   "source": [
    "# read in excel file\n",
    "cpi_total = pd.read_excel(\n",
    "    '../data/raw/CPIValues.xlsx',\n",
    "    sheet_name = 'CPI',\n",
    "    header = 11\n",
    ").rename(columns = {\n",
    "    'Country':'country'\n",
    "})\n",
    "\n",
    "# get columns of interest\n",
    "cpi_cols = [x for x in cpi_total.columns if (x.startswith('y')) or (x == 'country')]\n",
    "\n",
    "# subset to columns, and use pd.melt to get years into a single column\n",
    "cpi = pd.melt(cpi_total[cpi_cols],\n",
    "        id_vars=['country'],\n",
    "        var_name='year',\n",
    "        value_name='cpi')\n",
    "\n",
    "# replace the 'y' in the year values\n",
    "cpi.year = cpi.year.str.replace('y','')"
   ]
  },
  {
   "cell_type": "markdown",
   "id": "74759084-b677-45de-8f4e-bfbcf18a57ac",
   "metadata": {},
   "source": [
    "### Combine Economic Data"
   ]
  },
  {
   "cell_type": "code",
   "execution_count": 16,
   "id": "45e95778-5d9e-45f8-8a4a-d782ccf633cb",
   "metadata": {},
   "outputs": [],
   "source": [
    "# create list of data frames\n",
    "econ_datasets = [gdp_per_capita, gdp, exchange_rates, cpi]\n",
    "\n",
    "# merge all the data frames using reduce\n",
    "econ_df_merged = reduce(lambda left, right: pd.merge(left, right, on = ['country','year'], how = 'outer'), econ_datasets)\n",
    "\n",
    "# convert year column to integer\n",
    "econ_df_merged.year = econ_df_merged.year.astype(int)\n",
    "\n",
    "# get list of countries (non-aggregated rows)\n",
    "econ_countries = list(country_mapping_df.econ_dataset_country.dropna())\n",
    "\n",
    "# filter to country rows, and between 1990 and 2023\n",
    "econ_df = econ_df_merged.query(\"(country in @econ_countries) and (year >= 1990) and (year <= 2022)\").sort_values(by = ['country','year'], ascending = [True,True])"
   ]
  },
  {
   "cell_type": "markdown",
   "id": "19d755a2-0022-4ca0-a820-469c20bf5283",
   "metadata": {},
   "source": [
    "## Human Development Index Processing"
   ]
  },
  {
   "cell_type": "code",
   "execution_count": 17,
   "id": "db307579-2d5d-46dd-9f43-50330cc7bbbc",
   "metadata": {},
   "outputs": [],
   "source": [
    "# read csv file\n",
    "hdi = pd.read_csv('../data/raw/HDR23-24_Composite_indices_complete_time_series (1).csv')\n",
    "\n",
    "drop_cols = [col for col in hdi.columns if (col.startswith('hdi_m')) or (col.startswith('hdi_f'))] + ['hdi_rank_2022']\n",
    "\n",
    "# drop hdi rank column\n",
    "hdi = hdi.drop(columns = drop_cols)\n",
    "\n",
    "# select columns of interest\n",
    "hdi = hdi[['country', 'hdicode'] + [col for col in hdi.columns if col.startswith(('hdi_'))]].rename(\n",
    "    columns = {'hdicode':'hdi_code'}\n",
    ")\n",
    "\n",
    "# use pd.melt to put years into one column\n",
    "hdi = hdi.melt(id_vars=['country', 'hdi_code'], var_name='year',value_name='hdi')\n",
    "\n",
    "# remove 'hdi' in year values\n",
    "hdi['year'] = hdi['year'].str.replace(r'hdi_', '', regex=True)\n",
    "\n",
    "# get list of countries (non-aggregated rows)\n",
    "hdi_countries = list(country_mapping_df.hdi_dataset_country.dropna())\n",
    "\n",
    "# filter to countries\n",
    "hdi = hdi.query(\"country in @hdi_countries\")"
   ]
  },
  {
   "cell_type": "markdown",
   "id": "a171b9a1-09f8-4459-b90e-1a723da7d112",
   "metadata": {},
   "source": [
    "## Merging All Data"
   ]
  },
  {
   "cell_type": "markdown",
   "id": "7a9e8389-41fe-4058-a729-8851ba487194",
   "metadata": {},
   "source": [
    "### Mapping to Common Country Names"
   ]
  },
  {
   "cell_type": "code",
   "execution_count": 18,
   "id": "88cb3689-550c-43a2-b86d-78c6119f8364",
   "metadata": {},
   "outputs": [],
   "source": [
    "# create a dictionary for mapping tourism data frame countries\n",
    "tourism_country_map = dict(zip(country_mapping_df.tourism_dataset_country, country_mapping_df.country_value_map))\n",
    "\n",
    "# get the country values from country codes\n",
    "tourism_mapped = pd.merge(tourism_df, countries)\n",
    "\n",
    "# convert year to int\n",
    "tourism_mapped.year = tourism_mapped.year.astype(int)\n",
    "\n",
    "# map country values\n",
    "tourism_mapped.country = tourism_mapped.country.replace(tourism_country_map)"
   ]
  },
  {
   "cell_type": "code",
   "execution_count": 19,
   "id": "9b17b98f-2b4e-4f5d-bcdc-bff71902dc35",
   "metadata": {},
   "outputs": [],
   "source": [
    "# create a dictionary for mapping economics data frame countries\n",
    "econ_map_df = country_mapping_df.query(\"econ_dataset_country.isna() == False\")\n",
    "econ_country_map = dict(zip(econ_map_df.econ_dataset_country, econ_map_df.country_value_map))\n",
    "\n",
    "# take a copy of the economics data frame\n",
    "econ_df_mapped = econ_df.copy()\n",
    "\n",
    "# convert year to int\n",
    "econ_df_mapped.year = econ_df_mapped.year.astype(int)\n",
    "\n",
    "# map country values\n",
    "econ_df_mapped.country = econ_df_mapped.country.replace(econ_country_map)"
   ]
  },
  {
   "cell_type": "code",
   "execution_count": 20,
   "id": "8d98ddd4-aa4a-4085-9258-d148a83957f9",
   "metadata": {},
   "outputs": [],
   "source": [
    "# create a dictionary for mapping hdi data frame countries\n",
    "hdi_map_df = country_mapping_df.query(\"hdi_dataset_country.isna() == False\")\n",
    "hdi_country_map = dict(zip(hdi_map_df.hdi_dataset_country, hdi_map_df.country_value_map))\n",
    "\n",
    "# take a copy of the hdi data frame\n",
    "hdi_mapped = hdi.copy()\n",
    "\n",
    "# convert year to int\n",
    "hdi_mapped.year = hdi_mapped.year.astype(int)\n",
    "\n",
    "# map country values\n",
    "hdi_mapped.country = hdi_mapped.country.replace(hdi_country_map)"
   ]
  },
  {
   "cell_type": "markdown",
   "id": "447d3394-c490-4ba9-84ca-ce4c31186d5e",
   "metadata": {},
   "source": [
    "### Merging"
   ]
  },
  {
   "cell_type": "code",
   "execution_count": 21,
   "id": "a92bfa0d-b095-4a36-a050-e89b44bbdc3c",
   "metadata": {},
   "outputs": [],
   "source": [
    "# create list of data frames to merge\n",
    "df_list = [tourism_mapped, econ_df_mapped, hdi_mapped]\n",
    "\n",
    "# merge data frames using reduce\n",
    "df_merged = reduce(lambda left, right: pd.merge(left, right, on = ['country','year'], how = 'left'), df_list)"
   ]
  },
  {
   "cell_type": "code",
   "execution_count": 22,
   "id": "b11b61b0-c41c-4d07-b239-7f10befa905b",
   "metadata": {},
   "outputs": [],
   "source": [
    "# getting region\n",
    "df_merged = pd.merge(df_merged, country_mapping_df, left_on = 'country', right_on = 'country_value_map').rename(\n",
    "    columns = {'region_value_map':'world_region'}\n",
    ")"
   ]
  },
  {
   "cell_type": "code",
   "execution_count": 23,
   "id": "f6a6fdca-cdff-4c2c-9f9d-8bac24db6ebd",
   "metadata": {},
   "outputs": [],
   "source": [
    "# select relevant columns\n",
    "final_df = df_merged[[\n",
    "       'world_region', 'country', 'year', 'total_guests', 'total_overnights',\n",
    "       'hotel_guests', 'hotel_overnights', 'total_middle_east',\n",
    "       'total_south_asia', 'total_other_region_not_classified',\n",
    "       'total_nationals_residing_abroad', 'total_regions', 'total_africa',\n",
    "       'total_americas', 'total_east_asia_pacific', 'total_europe',\n",
    "       'total_region_arrivals', 'overnight_visitors', 'same_day_visitors',\n",
    "       'same_day_cruise_passengers', 'total_by_purpose', 'visitors_personal',\n",
    "       'visitors_business_professional', 'total_arrivals_transport',\n",
    "       'arrivals_by_air', 'arrivals_by_water', 'arrivals_by_land',\n",
    "       'total_inbound_tourism_expenditure',\n",
    "       'travel_inbound_tourism_expenditure',\n",
    "       'transport_inbound_tourism_expenditure', 'total_domestic_trip_visitors',\n",
    "       'domestic_trip_overnight_visitors', 'domestic_trip_same_day_visitors',\n",
    "       'total_guests_domestic', 'total_overnights_domestic',\n",
    "       'hotel_guests_domestic', 'hotel_overnights_domestic',\n",
    "       'total_departures', 'departures_overnight_visitors',\n",
    "       'departures_same_day_visitors', 'outbound_total_expenditure',\n",
    "       'outbound_travel_expenditure', 'outbound_transport_expenditure',\n",
    "       'establishments', 'rooms', 'bed_places', 'occupancy_rate_per_room',\n",
    "       'occupancy_rate_per_bed_place', 'avg_stay_length', 'available_capacity',\n",
    "       'total_tourism_employees', 'employees_visitor_accomodation_services',\n",
    "       'employees_other_accomodation_services',\n",
    "       'employees_food_and_beverage_service',\n",
    "       'employees_passenger_transportation', 'employees_travel_agencies',\n",
    "       'employees_other_tourism_industries', 'gdp_per_capita',\n",
    "       'gdp', 'exchange_rate', 'cpi', 'hdi_code', 'hdi'\n",
    "]]"
   ]
  },
  {
   "cell_type": "markdown",
   "id": "5e051ea5-ddd0-42a1-85a0-4dc38b060912",
   "metadata": {},
   "source": [
    "## Exporting Data to CSV"
   ]
  },
  {
   "cell_type": "code",
   "execution_count": 24,
   "id": "ae2ee4e6-85f8-4813-8faf-6753f65bd260",
   "metadata": {},
   "outputs": [],
   "source": [
    "# write to csv\n",
    "tourism_df.to_csv('../data/processed/tourism_metrics.csv', index = False)\n",
    "countries.to_csv('../data/processed/country_codes.csv', index = False)\n",
    "gdp_per_capita.to_csv('../data/processed/gdp_per_capita.csv', index = False)\n",
    "gdp.to_csv('../data/processed/gdp.csv', index=False)\n",
    "exchange_rates.to_csv('../data/processed/exchange_rates.csv', index=False)\n",
    "cpi.to_csv('../data/processed/consumer_price_index.csv', index=False)\n",
    "hdi.to_csv('../data/processed/hdi.csv', index=False)\n",
    "econ_df.to_csv('../data/processed/economic_metrics.csv', index=False)\n",
    "final_df.to_csv('../data/processed/full_tourism_dataset.csv', index=False)"
   ]
  }
 ],
 "metadata": {
  "kernelspec": {
   "display_name": "Python 3",
   "language": "python",
   "name": "python3"
  },
  "language_info": {
   "codemirror_mode": {
    "name": "ipython",
    "version": 3
   },
   "file_extension": ".py",
   "mimetype": "text/x-python",
   "name": "python",
   "nbconvert_exporter": "python",
   "pygments_lexer": "ipython3",
   "version": "3.12.2"
  }
 },
 "nbformat": 4,
 "nbformat_minor": 5
}
