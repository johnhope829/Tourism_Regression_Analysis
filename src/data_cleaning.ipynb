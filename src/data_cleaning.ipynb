{
 "cells": [
  {
   "cell_type": "markdown",
   "id": "2866be13-1439-494e-b8f2-59be9ad117ca",
   "metadata": {},
   "source": [
    "# Data Cleaning"
   ]
  },
  {
   "cell_type": "markdown",
   "id": "2b2b9db1-fc9c-4c11-8dec-ce94b72aef7e",
   "metadata": {},
   "source": [
    "## Import Packages"
   ]
  },
  {
   "cell_type": "code",
   "execution_count": 13,
   "id": "466757a5-0d90-4b2a-a77e-65857132f770",
   "metadata": {},
   "outputs": [],
   "source": [
    "import pandas as pd\n",
    "import numpy as np\n",
    "from itertools import chain"
   ]
  },
  {
   "cell_type": "markdown",
   "id": "677485bd-d4eb-4d68-a7ea-0bc0a2d8cad9",
   "metadata": {},
   "source": [
    "## Get Country Codes"
   ]
  },
  {
   "cell_type": "code",
   "execution_count": 15,
   "id": "10d2841d-532d-4f0c-bcd6-1422f3149567",
   "metadata": {},
   "outputs": [],
   "source": [
    "country_df = pd.read_excel(\n",
    "    '../data/unwto-all-data-download_2022.xlsx',\n",
    "    sheet_name = 'Inbound Tourism-Arrivals',\n",
    "    header = 2\n",
    ")"
   ]
  },
  {
   "cell_type": "code",
   "execution_count": 16,
   "id": "699f5976-40d1-45bc-9b65-d3255860861d",
   "metadata": {},
   "outputs": [],
   "source": [
    "country_df = country_df[['C.','Basic data and indicators']][\n",
    "    (country_df['Basic data and indicators'].isna() == False) & \n",
    "    (country_df['C.'].isna() == False)\n",
    "]"
   ]
  },
  {
   "cell_type": "code",
   "execution_count": 21,
   "id": "b24d6c30-f37e-435d-9355-ac1bf6930451",
   "metadata": {},
   "outputs": [],
   "source": [
    "countries = country_df.rename(columns = {\n",
    "    'Basic data and indicators':'country'\n",
    "})"
   ]
  },
  {
   "cell_type": "markdown",
   "id": "468413b8-80b1-448c-bebf-384a0779dff0",
   "metadata": {},
   "source": [
    "## Function to Standardize Data Cleaning"
   ]
  },
  {
   "cell_type": "code",
   "execution_count": 28,
   "id": "0c33d96f-0cfe-42b1-8434-c5713ac42a76",
   "metadata": {},
   "outputs": [],
   "source": [
    "def cleanse_tourism_df(sheet):\n",
    "    \n",
    "    # read excel sheet\n",
    "    df = pd.read_excel(\n",
    "        '../data/unwto-all-data-download_2022.xlsx',\n",
    "        sheet_name = sheet,\n",
    "        header = 2\n",
    "    )\n",
    "    \n",
    "    # remove irrelevant rows\n",
    "    df = df[\n",
    "        (df['S.'].isna() == False) & \n",
    "        (df['S.'] != 0)\n",
    "    ]\n",
    "    \n",
    "    # utilizing the attribute number column with table name, as numbers are repeating across tables\n",
    "    df['table_measure'] = sheet.replace(' ','_').replace('-','_').lower() + df['S.'].map('{:,.2f}'.format)\n",
    "    \n",
    "    # defining the columns to keep\n",
    "    col_list = [['C.','table_measure'], list(range(1995,2023))]\n",
    "    col_list = list(chain(*col_list))\n",
    "    df = df[col_list]\n",
    "    \n",
    "    # utilizing pd.melt() to put the years onto rows\n",
    "    df = pd.melt(df,\n",
    "                 id_vars=['C.', 'table_measure'], \n",
    "                 var_name='year',\n",
    "                 value_name='value')\n",
    "    \n",
    "    # replacing '..' values with NaN\n",
    "    df['value'] = df['value'].replace('..',np.nan)\n",
    "    \n",
    "    # pivoting to put the attributes onto columns\n",
    "    df = df.pivot(index=['C.', 'year'], columns='table_measure', values='value').reset_index()\n",
    "    \n",
    "    return df"
   ]
  },
  {
   "cell_type": "code",
   "execution_count": 29,
   "id": "e4ec2a7f-b017-4287-aff2-9a92f5b916ab",
   "metadata": {},
   "outputs": [],
   "source": [
    "# inbound tourism tables\n",
    "inbound_accommodations = cleanse_tourism_df('Inbound Tourism-Accommodation')\n",
    "inbound_regions = cleanse_tourism_df('Inbound Tourism-Regions')\n",
    "inbound_arrivals = cleanse_tourism_df('Inbound Tourism-Arrivals')\n",
    "inbound_purpose = cleanse_tourism_df('Inbound Tourism-Purpose')\n",
    "inbound_transport = cleanse_tourism_df('Inbound Tourism-Transport')\n",
    "inbound_expenditure = cleanse_tourism_df('Inbound Tourism-Expenditure')\n",
    "\n",
    "# domestic tourism tables\n",
    "domestic_trips = cleanse_tourism_df('Domestic Tourism-Trips')\n",
    "domestic_accommodations = cleanse_tourism_df('Domestic Tourism-Accommodation')\n",
    "\n",
    "# outbound tourism tables\n",
    "outbound_departures = cleanse_tourism_df('Outbound Tourism-Departures')\n",
    "outbound_expenditure = cleanse_tourism_df('Outbound Tourism-Expenditure')\n",
    "\n",
    "# tourism industry table\n",
    "tourism_industry = cleanse_tourism_df('Tourism Industries')\n",
    "\n",
    "# tourism employment table\n",
    "employment = cleanse_tourism_df('Employment')"
   ]
  }
 ],
 "metadata": {
  "kernelspec": {
   "display_name": "Python 3",
   "language": "python",
   "name": "python3"
  },
  "language_info": {
   "codemirror_mode": {
    "name": "ipython",
    "version": 3
   },
   "file_extension": ".py",
   "mimetype": "text/x-python",
   "name": "python",
   "nbconvert_exporter": "python",
   "pygments_lexer": "ipython3",
   "version": "3.8.8"
  }
 },
 "nbformat": 4,
 "nbformat_minor": 5
}
